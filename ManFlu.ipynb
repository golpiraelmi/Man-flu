{
 "cells": [
  {
   "cell_type": "markdown",
   "metadata": {},
   "source": [
    "## What is \"man flu\"?\n",
    "Harvard Medical School on an article published on https://www.health.harvard.edu/blog/man-flu-really-thing-2018010413033 describes \"man flu\" as: \"a constitutional character flaw of men who, when felled by a cold or flu, embellish the severity of their symptoms, quickly adopt a helpless “patient role,” and rely heavily on others to help them until they recover.\"\n",
    "\n",
    "Dr Kyle Sue, a clinical assistant professor at Memorial University in his research showed that influenza results in higher risk of hospital admissions and deaths in men compared to women. This could be the result of high testosterone  in men that supresses their immune system. (https://www.independent.co.uk/life-style/health-and-families/man-flu-colds-women-gender-scientists-immune-system-caveman-testosterone-a8105006.html)"
   ]
  },
  {
   "cell_type": "markdown",
   "metadata": {},
   "source": [
    "## Data\n",
    "\n",
    "I created an <b>artificial dataset</b> to discuss whether there is a meaningful difference between men and women with respect to perceived illness symptoms (whether patients need to stay in bed as a result of flu). The purpose of this project is to discuss Chi-Squared hypothesis testing using Python. I used this subject and <b> created the artificial man flu dataset</b> only because I found the term funny. "
   ]
  },
  {
   "cell_type": "code",
   "execution_count": 28,
   "metadata": {},
   "outputs": [],
   "source": [
    "import pandas as pd\n",
    "import numpy as np\n",
    "import matplotlib.pyplot as plt"
   ]
  },
  {
   "cell_type": "code",
   "execution_count": 30,
   "metadata": {},
   "outputs": [
    {
     "data": {
      "text/html": [
       "<div>\n",
       "<style scoped>\n",
       "    .dataframe tbody tr th:only-of-type {\n",
       "        vertical-align: middle;\n",
       "    }\n",
       "\n",
       "    .dataframe tbody tr th {\n",
       "        vertical-align: top;\n",
       "    }\n",
       "\n",
       "    .dataframe thead th {\n",
       "        text-align: right;\n",
       "    }\n",
       "</style>\n",
       "<table border=\"1\" class=\"dataframe\">\n",
       "  <thead>\n",
       "    <tr style=\"text-align: right;\">\n",
       "      <th></th>\n",
       "      <th>BedRest</th>\n",
       "      <th>Sex</th>\n",
       "    </tr>\n",
       "  </thead>\n",
       "  <tbody>\n",
       "    <tr>\n",
       "      <th>0</th>\n",
       "      <td>No</td>\n",
       "      <td>Female</td>\n",
       "    </tr>\n",
       "    <tr>\n",
       "      <th>1</th>\n",
       "      <td>No</td>\n",
       "      <td>Female</td>\n",
       "    </tr>\n",
       "    <tr>\n",
       "      <th>2</th>\n",
       "      <td>No</td>\n",
       "      <td>Female</td>\n",
       "    </tr>\n",
       "    <tr>\n",
       "      <th>3</th>\n",
       "      <td>No</td>\n",
       "      <td>Female</td>\n",
       "    </tr>\n",
       "    <tr>\n",
       "      <th>4</th>\n",
       "      <td>No</td>\n",
       "      <td>Male</td>\n",
       "    </tr>\n",
       "  </tbody>\n",
       "</table>\n",
       "</div>"
      ],
      "text/plain": [
       "  BedRest     Sex\n",
       "0      No  Female\n",
       "1      No  Female\n",
       "2      No  Female\n",
       "3      No  Female\n",
       "4      No    Male"
      ]
     },
     "execution_count": 30,
     "metadata": {},
     "output_type": "execute_result"
    }
   ],
   "source": [
    "# Loading the artificial dataset\n",
    "df = pd.read_csv('ManFlu.csv')\n",
    "df=df[['BedRest', 'Sex']]\n",
    "df.head()"
   ]
  },
  {
   "cell_type": "markdown",
   "metadata": {},
   "source": [
    "# What statistical test should we use?\n",
    "\n",
    "The chi-square test of independence is used when we have two categorical variables and we want to see whether one group is different for different values of the other group.  \n",
    "\n",
    "## Hypotheses\n",
    "Null hypotheses: The two categorical variables are independent (no association between gender and the need to stay in bed)\n",
    "\n",
    "Alternative hypotheses: The two categorical variables are dependent (there is an association between gender and the need to stay in bed)"
   ]
  },
  {
   "cell_type": "code",
   "execution_count": 15,
   "metadata": {},
   "outputs": [
    {
     "data": {
      "text/plain": [
       "Sex\n",
       "Female    713\n",
       "Male      312\n",
       "Name: Sex, dtype: int64"
      ]
     },
     "execution_count": 15,
     "metadata": {},
     "output_type": "execute_result"
    }
   ],
   "source": [
    "# The number of observations in each group\n",
    "df.groupby('Sex')['Sex'].count() # Counts the number of male/females"
   ]
  },
  {
   "cell_type": "code",
   "execution_count": 31,
   "metadata": {},
   "outputs": [
    {
     "name": "stdout",
     "output_type": "stream",
     "text": [
      "Sex      Female  Male\n",
      "BedRest              \n",
      "No          413    86\n",
      "Yes         300   226\n"
     ]
    }
   ],
   "source": [
    "# Creating a contingency table\n",
    "contingency_table = pd.crosstab(df.BedRest, df.Sex)\n",
    "print (contingency_table)"
   ]
  },
  {
   "cell_type": "code",
   "execution_count": 17,
   "metadata": {},
   "outputs": [
    {
     "name": "stdout",
     "output_type": "stream",
     "text": [
      "Sex      Female  Male\n",
      "BedRest              \n",
      "No        0.579 0.276\n",
      "Yes       0.421 0.724\n"
     ]
    }
   ],
   "source": [
    "# Calculate the proportions\n",
    "proportions = pd.crosstab(df['Sex'],\n",
    "   df['BedRest']).apply(lambda row: row/row.sum(),axis=1).transpose()\n",
    "\n",
    "# Formatting table output to show only three decimals\n",
    "pd.options.display.float_format = '{:,.3f}'.format\n",
    "proportions.apply(lambda x: x.astype(int) if np.allclose(x, x.astype(int)) else x)\n",
    "print (proportions)"
   ]
  },
  {
   "cell_type": "code",
   "execution_count": 32,
   "metadata": {},
   "outputs": [
    {
     "name": "stdout",
     "output_type": "stream",
     "text": [
      "\n",
      "Chi-squared test for independence\n",
      "\n",
      "Test              Df    Chi-square      P-value\n",
      "--------------  ----  ------------  -----------\n",
      "Pearson            1       78.8631  6.65682e-19\n",
      "Log-likelihood     1       81.1123  2.13252e-19\n",
      "\n"
     ]
    }
   ],
   "source": [
    "# Calculate degree of freedom, chi-square, and p-value\n",
    "# USING bioinfokit.analys library \n",
    "\n",
    "from bioinfokit.analys import stat\n",
    "res = stat()\n",
    "res.chisq(df=contingency_table)\n",
    "print(res.summary)"
   ]
  },
  {
   "cell_type": "code",
   "execution_count": 19,
   "metadata": {},
   "outputs": [
    {
     "name": "stdout",
     "output_type": "stream",
     "text": [
      "Chi_square: 78.86305133922971 \n",
      "Df: 1 \n",
      "p_value: 6.656820681726483e-19\n"
     ]
    }
   ],
   "source": [
    "# Calculate degree of freedom, chi-square, and p-value\n",
    "# USING scipy.stats library\n",
    "\n",
    "from scipy.stats import chi2_contingency\n",
    "Chi_square, p_value, Df, expected = chi2_contingency(contingency_table)\n",
    "print ('Chi_square:', Chi_square, '\\nDf:', Df, '\\np_value:', p_value)"
   ]
  },
  {
   "cell_type": "code",
   "execution_count": 21,
   "metadata": {},
   "outputs": [
    {
     "name": "stdout",
     "output_type": "stream",
     "text": [
      "\n",
      "Expected frequency counts\n",
      "\n",
      "      Female     Male\n",
      "--  --------  -------\n",
      " 0   347.109  151.891\n",
      " 1   365.891  160.109\n",
      "\n"
     ]
    }
   ],
   "source": [
    "# The expected values from chi-squared distribution\n",
    "\n",
    "print(res.expected_df)"
   ]
  },
  {
   "cell_type": "markdown",
   "metadata": {},
   "source": [
    "## Interpretation\n",
    "\n",
    "### Question-1 :\n",
    "#### Is there a difference between the groups? Can we reject the null-hypothesis? (Significance Testing)\n",
    "\n",
    "Based on expected frequency table, it is expected that 160 men require bed rest when hit with flu. Our observed values show that 226 men reported that they needed a bed rest. In females, it is expected that 365 patients require bed rest, but only 300 female patients reported bed rest. So are the groups really different?\n",
    "\n",
    "The p-value of p <0.05 obtained from chi-square test shows that the difference between male and female is significant. We reject the null hypothesis and conclude that there is an association between gender with whether or not patients need bed rest.\n",
    "\n"
   ]
  },
  {
   "cell_type": "code",
   "execution_count": 33,
   "metadata": {},
   "outputs": [
    {
     "name": "stdout",
     "output_type": "stream",
     "text": [
      "significance=0.050, p=0.000\n",
      "Dependent (reject H0)\n"
     ]
    }
   ],
   "source": [
    "# interpret p-value\n",
    "\n",
    "alpha = 0.05\n",
    "print('significance=%.3f, p=%.3f' % (alpha, p_value))\n",
    "if p_value <= alpha:\n",
    "    print('Dependent (reject H0)')\n",
    "else:\n",
    "    print('Independent (fail to reject H0)')"
   ]
  },
  {
   "cell_type": "markdown",
   "metadata": {},
   "source": [
    "### Question-2: \n",
    "#### How large is the difference? (Confidence Interval Estimation)\n",
    "Confidence interval estimation contains the result of significance testing, and will help determine the size of the difference. In this example, whether the difference between male and female groups large enough to be called a \"man flu\"? "
   ]
  },
  {
   "cell_type": "code",
   "execution_count": 34,
   "metadata": {},
   "outputs": [
    {
     "name": "stdout",
     "output_type": "stream",
     "text": [
      "0.3845199298886166 0.45699479661909725\n"
     ]
    }
   ],
   "source": [
    "# Proportion of females with who need bedrest \n",
    "p_fm = proportions['Female'][1]\n",
    "\n",
    "# Size of female population\n",
    "n_fm = df.groupby('Sex')['Sex'].count()['Female']\n",
    "\n",
    "# Calculate the standard error for female population\n",
    "se_female = np.sqrt(p_fm * (1 - p_fm) / n_fm)\n",
    "\n",
    "# Calculate the Margin of Error for a Sample Proportion for females\n",
    "\n",
    "z_score = 1.96\n",
    "lcb_fm = p_fm - z_score* se_female #lower limit of the CI\n",
    "ucb_fm = p_fm + z_score* se_female #upper limit of the CI\n",
    "\n",
    "print (lcb_fm, ucb_fm)"
   ]
  },
  {
   "cell_type": "code",
   "execution_count": 35,
   "metadata": {},
   "outputs": [
    {
     "name": "stdout",
     "output_type": "stream",
     "text": [
      "0.3845205957599584 0.45699413074775547\n"
     ]
    }
   ],
   "source": [
    "# ANOTHER WAY TO CALCULATE THE MARGIN OF ERROR FOR FEMALE PROPORTION\n",
    "# Calculating lower confidence and upper confidence for females\n",
    "import statsmodels.api as sm\n",
    "lcb_fm, ucb_fm = sm.stats.proportion_confint(n_fm * p_fm, n_fm)  \n",
    "print (lcb_fm, ucb_fm)"
   ]
  },
  {
   "cell_type": "code",
   "execution_count": 25,
   "metadata": {},
   "outputs": [
    {
     "name": "stdout",
     "output_type": "stream",
     "text": [
      "0.6747774762140357 0.773940472503913\n"
     ]
    }
   ],
   "source": [
    "# Proportion of males with desease \n",
    "p_m = proportions['Male'][1]\n",
    "\n",
    "# Size of male population\n",
    "n_m = df.groupby('Sex')['Sex'].count()['Male']\n",
    "\n",
    "#Standard error for male poulation\n",
    "se_male = np.sqrt(p_m * (1 - p_m) / n_m)\n",
    "\n",
    "# Calculating lower confidence and upper confidence for males\n",
    "import statsmodels.api as sm\n",
    "lcb_m, ucb_m = sm.stats.proportion_confint(n_m * p_m, n_m)  \n",
    "print (lcb_m, ucb_m)"
   ]
  },
  {
   "cell_type": "code",
   "execution_count": 26,
   "metadata": {},
   "outputs": [
    {
     "data": {
      "image/png": "[encoded data removed]",
      "text/plain": [
       "<Figure size 288x288 with 1 Axes>"
      ]
     },
     "metadata": {
      "needs_background": "light"
     },
     "output_type": "display_data"
    }
   ],
   "source": [
    "# Plotting Upper and Lower Confidence Intervals\n",
    "plt.figure(figsize=(4,4))\n",
    "\n",
    "dict={'Sex' : ['Female', 'Male'], 'LC':[lcb_fm,lcb_m], 'UC':[ucb_fm,ucb_m]}\n",
    "tb3=pd.DataFrame(dict,columns=['Sex','LC', 'UC'])\n",
    "tb3\n",
    "\n",
    "ordered_df = tb3.sort_values(by='Sex')\n",
    "\n",
    "plt.vlines(x=tb3.Sex, ymin=ordered_df['LC'], ymax=ordered_df['UC'], color='grey', alpha=0.4)\n",
    "plt.scatter(tb3.Sex, ordered_df['LC'],  color='blue', alpha=1, label='LC')\n",
    "plt.scatter(tb3.Sex, ordered_df['UC'],  color='blue', alpha=1 , label='UC')\n",
    "plt.show()"
   ]
  }
 ],
 "metadata": {
  "kernelspec": {
   "display_name": "Python 3",
   "language": "python",
   "name": "python3"
  },
  "language_info": {
   "codemirror_mode": {
    "name": "ipython",
    "version": 3
   },
   "file_extension": ".py",
   "mimetype": "text/x-python",
   "name": "python",
   "nbconvert_exporter": "python",
   "pygments_lexer": "ipython3",
   "version": "3.7.4"
  }
 },
 "nbformat": 4,
 "nbformat_minor": 2
}
